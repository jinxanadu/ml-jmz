{
 "cells": [
  {
   "metadata": {},
   "cell_type": "markdown",
   "source": "导入数据",
   "id": "9c81a9456b50054"
  },
  {
   "cell_type": "code",
   "id": "initial_id",
   "metadata": {
    "collapsed": true,
    "ExecuteTime": {
     "end_time": "2025-07-30T09:22:43.460471Z",
     "start_time": "2025-07-30T09:22:42.085678Z"
    }
   },
   "source": [
    "import numpy as np\n",
    "\n",
    "data = np.load('datasets/mnist_numpy.npz',allow_pickle=True)\n",
    "X, y= data[\"X\"], data[\"y\"]"
   ],
   "outputs": [],
   "execution_count": 1
  },
  {
   "metadata": {},
   "cell_type": "code",
   "outputs": [],
   "execution_count": null,
   "source": "",
   "id": "807a031fc4f625fc"
  }
 ],
 "metadata": {
  "kernelspec": {
   "display_name": "Python 3",
   "language": "python",
   "name": "python3"
  },
  "language_info": {
   "codemirror_mode": {
    "name": "ipython",
    "version": 2
   },
   "file_extension": ".py",
   "mimetype": "text/x-python",
   "name": "python",
   "nbconvert_exporter": "python",
   "pygments_lexer": "ipython2",
   "version": "2.7.6"
  }
 },
 "nbformat": 4,
 "nbformat_minor": 5
}
