{
 "cells": [
  {
   "metadata": {},
   "cell_type": "markdown",
   "source": [
    "## 简答题\n",
    "1. 如果已经在完全相同的训练集上训练了5个不同的模型，并且它们都达到了95%的准确率，是否还有机会获得更好的效果？如果可以，该怎么做？ 如果不行，为什么？\n",
    "2. 硬投票分类器和软投票分类器有什么区别？\n",
    "3. 是否可以通过在多个服务器上并行来加速bagging集成的训练？pasting集成呢？提升集成呢？随机森林或堆叠集成呢？\n",
    "4. 包外评估的好处是什么？\n",
    "5. 是什么让极端随机树比一般随机森林更加随机？这部分增加的随机性有什么用？极端随机树比一般随机森林快还是慢？\n",
    "6. 如果AdaBoost集成对训练数据欠拟合，应该调整哪些超参数？怎么调整？\n",
    "7. 如果梯度提升集成对训练集过拟合，应该提升还是降低学习率"
   ],
   "id": "878186d2264ec5b9"
  },
  {
   "metadata": {},
   "cell_type": "markdown",
   "source": [
    "## 编程题\n",
    "1. 加载MNIST数据集（**8_sklearn做分类** 里有介绍），将其分为一个训练集、一个验证集和一个测试集（例如使用40000个实例训练，10000个实例验证，最后20000个实例测试）。然后训练多个分类器，比如一个随机森林分类器、一个极端随机树分类器和一个SVM。接下来，尝试使用软投票法或者硬投票法将它们组合成一个集成，这个集成在验证集上的表现要胜过它们各自单独的表现。成功找到集成后，在测试集上测试。与单个的分类器相比，它的性能要好多少？\n",
    "\n",
    "\n",
    "2. 运行上一题中的单个分类器，用验证集进行预测，然后用预测结果创建一个新的训练集：新训练集中的每个实例都是一个向量，这个向量包含所有分类器对于一个图像的一组预测，目标值是图像的类。恭喜，你成功训练了一个混合器，结合第一层的分类器，它们一起构成了一个堆叠集成。现在在测试集上评估这个集成。对于测试集中的每个图像，使用所有的分类器进行预测，然后将预测结果提供给混合器，得到集成的预测。与前面训练的投票分类器相比，这个集成的结果如何？现在再次尝试使用StackingClassifier。你得到了更好的性能吗？如果是这样，为什么？"
   ],
   "id": "e00fcb10de95b7a"
  },
  {
   "metadata": {
    "ExecuteTime": {
     "end_time": "2025-08-20T20:18:54.761496Z",
     "start_time": "2025-08-20T20:18:50.352545Z"
    }
   },
   "cell_type": "code",
   "source": [
    "from sklearn.datasets import fetch_openml\n",
    "\n",
    "mnist = fetch_openml('mnist_784', as_frame=False, parser='auto')\n",
    "X, y = mnist[\"data\"], mnist[\"target\"]"
   ],
   "id": "37406aa918bede97",
   "outputs": [],
   "execution_count": 7
  },
  {
   "metadata": {
    "ExecuteTime": {
     "end_time": "2025-08-20T20:19:02.118907Z",
     "start_time": "2025-08-20T20:18:59.940520Z"
    }
   },
   "cell_type": "code",
   "source": [
    "from sklearn.preprocessing import StandardScaler\n",
    "from sklearn.model_selection import train_test_split\n",
    "import numpy as np\n",
    "\n",
    "y = y.astype(np.uint8)\n",
    "\n",
    "X_temp, X_test, y_temp, y_test = train_test_split( X, y, test_size=20000, random_state=42, stratify=y)\n",
    "\n",
    "X_train, X_val, y_train, y_val = train_test_split(X_temp, y_temp, test_size=10000, random_state=42, stratify=y_temp)\n",
    "\n",
    "scaler = StandardScaler()\n",
    "X_train_scaled = scaler.fit_transform(X_train)\n",
    "X_val_scaled = scaler.transform(X_val)\n",
    "X_test_scaled = scaler.transform(X_test)"
   ],
   "id": "1fd159569e73c287",
   "outputs": [],
   "execution_count": 8
  },
  {
   "metadata": {
    "ExecuteTime": {
     "end_time": "2025-08-20T19:23:19.322388Z",
     "start_time": "2025-08-20T19:23:19.067494Z"
    }
   },
   "cell_type": "code",
   "source": [
    "from sklearn.svm import LinearSVC\n",
    "from sklearn.ensemble import VotingClassifier, RandomForestClassifier, ExtraTreesClassifier\n",
    "\n",
    "rf_clf = RandomForestClassifier(n_estimators=200, max_leaf_nodes=32,random_state=42, n_jobs=-1)\n",
    "et_clf = ExtraTreesClassifier(n_estimators=200, max_leaf_nodes=32,random_state=42, n_jobs=-1)\n",
    "svm_clf = LinearSVC(C=1.0, random_state=42, max_iter=2000)\n",
    "from sklearn.calibration import CalibratedClassifierCV\n",
    "svm_clf_calibrated = CalibratedClassifierCV(svm_clf, cv=3, method='isotonic')\n",
    "\n",
    "classifiers = [('rf', rf_clf),('et', et_clf), ('svm', svm_clf_calibrated)]\n",
    "\n",
    "# for name, clf in classifiers:\n",
    "#     clf.fit(X_train_scaled, y_train)\n",
    "#     y_train_pred = clf.predict(X_train_scaled)\n",
    "#     y_val_pred = clf.predict(X_val_scaled)\n",
    "#     y_test_pred = clf.predict(X_test_scaled)\n",
    "#\n",
    "#     train_accuracy = accuracy_score(y_train, y_train_pred)\n",
    "#     val_acc = accuracy_score(y_val, y_val_pred)\n",
    "#     test_accuracy = accuracy_score(y_test, y_test_pred)\n",
    "#     print(f\"{name} 在训练集上的准确率: {train_accuracy:.4f},在验证集上的准确率: {val_acc:.4f},在测试集上的准确率: {test_accuracy:.4f}\")\n"
   ],
   "id": "b711b401752e62b9",
   "outputs": [],
   "execution_count": 3
  },
  {
   "metadata": {
    "ExecuteTime": {
     "end_time": "2025-08-20T18:34:38.777901Z",
     "start_time": "2025-08-20T18:21:28.506380Z"
    }
   },
   "cell_type": "code",
   "source": [
    "voting_clf = VotingClassifier(estimators=classifiers, voting='soft' ,n_jobs = -1)\n",
    "\n",
    "voting_clf.fit(X_train_scaled, y_train)\n",
    "\n",
    "# for name, clf in voting_clf.named_estimators_.items():\n",
    "#     print(name, \"在验证集上的准确率:\", clf.score(X_val, y_val), \"在训练集上的准确率:\", clf.score(X_train, y_train), \"在测试集上的准确率:\", clf.score(X_test, y_test))\n",
    "#\n",
    "# print(f\"投票分类器 在训练集上的准确率: {voting_clf.score(X_train, y_train)},在验证集上的准确率: {voting_clf.score(X_val, y_val)},在测试集上的准确率: {voting_clf.score(X_test, y_test)}\")\n"
   ],
   "id": "10c654b24673e8fd",
   "outputs": [
    {
     "name": "stdout",
     "output_type": "stream",
     "text": [
      "rf 在验证集上的准确率: 0.0975 在训练集上的准确率: 0.0975 在测试集上的准确率: 0.0975\n",
      "et 在验证集上的准确率: 0.2901 在训练集上的准确率: 0.291075 在测试集上的准确率: 0.2877\n",
      "svm 在验证集上的准确率: 0.3624 在训练集上的准确率: 0.368925 在测试集上的准确率: 0.3662\n",
      "投票分类器 在训练集上的准确率: 0.257,在验证集上的准确率: 0.2582,在测试集上的准确率: 0.25465\n"
     ]
    }
   ],
   "execution_count": 9
  },
  {
   "metadata": {
    "ExecuteTime": {
     "end_time": "2025-08-20T18:38:38.818778Z",
     "start_time": "2025-08-20T18:38:31.238732Z"
    }
   },
   "cell_type": "code",
   "source": [
    "for name, clf in voting_clf.named_estimators_.items():\n",
    "    print(name, \"在验证集上的准确率:\", clf.score(X_val_scaled, y_val), \"在训练集上的准确率:\", clf.score(X_train_scaled, y_train), \"在测试集上的准确率:\", clf.score(X_test_scaled, y_test))\n",
    "\n",
    "print(f\"投票分类器 在验证集上的准确率: {voting_clf.score(X_val_scaled, y_val)},在训练集上的准确率: {voting_clf.score(X_train_scaled, y_train)},在测试集上的准确率: {voting_clf.score(X_test_scaled, y_test)}\")"
   ],
   "id": "6e0e7e645bb86e49",
   "outputs": [
    {
     "name": "stdout",
     "output_type": "stream",
     "text": [
      "rf 在验证集上的准确率: 0.8691 在训练集上的准确率: 0.872975 在测试集上的准确率: 0.86935\n",
      "et 在验证集上的准确率: 0.8537 在训练集上的准确率: 0.861525 在测试集上的准确率: 0.8577\n",
      "svm 在验证集上的准确率: 0.9053 在训练集上的准确率: 0.93655 在测试集上的准确率: 0.90865\n",
      "投票分类器 在验证集上的准确率: 0.9133,在训练集上的准确率: 0.936825,在测试集上的准确率: 0.91395\n"
     ]
    }
   ],
   "execution_count": 11
  },
  {
   "metadata": {
    "ExecuteTime": {
     "end_time": "2025-08-20T18:49:46.082126Z",
     "start_time": "2025-08-20T18:49:45.223393Z"
    }
   },
   "cell_type": "code",
   "source": [
    "from sklearn.linear_model import LogisticRegression\n",
    "\n",
    "rf_clf_trained = voting_clf.named_estimators_['rf']\n",
    "et_clf_trained = voting_clf.named_estimators_['et']\n",
    "svm_clf_calibrated_trained = voting_clf.named_estimators_['svm']\n",
    "\n",
    "rf_val_proba = rf_clf_trained.predict_proba(X_val_scaled)\n",
    "et_val_proba = et_clf_trained.predict_proba(X_val_scaled)\n",
    "svm_val_proba = svm_clf_calibrated_trained.predict_proba(X_val_scaled)\n",
    "\n",
    "X_val_stacked = np.hstack([rf_val_proba, et_val_proba, svm_val_proba])\n",
    "blender = LogisticRegression(max_iter=1000, random_state=42)\n",
    "blender.fit(X_val_stacked, y_val)"
   ],
   "id": "7e025be72d613d47",
   "outputs": [
    {
     "data": {
      "text/plain": [
       "LogisticRegression(max_iter=1000, random_state=42)"
      ],
      "text/html": [
       "<style>#sk-container-id-1 {color: black;}#sk-container-id-1 pre{padding: 0;}#sk-container-id-1 div.sk-toggleable {background-color: white;}#sk-container-id-1 label.sk-toggleable__label {cursor: pointer;display: block;width: 100%;margin-bottom: 0;padding: 0.3em;box-sizing: border-box;text-align: center;}#sk-container-id-1 label.sk-toggleable__label-arrow:before {content: \"▸\";float: left;margin-right: 0.25em;color: #696969;}#sk-container-id-1 label.sk-toggleable__label-arrow:hover:before {color: black;}#sk-container-id-1 div.sk-estimator:hover label.sk-toggleable__label-arrow:before {color: black;}#sk-container-id-1 div.sk-toggleable__content {max-height: 0;max-width: 0;overflow: hidden;text-align: left;background-color: #f0f8ff;}#sk-container-id-1 div.sk-toggleable__content pre {margin: 0.2em;color: black;border-radius: 0.25em;background-color: #f0f8ff;}#sk-container-id-1 input.sk-toggleable__control:checked~div.sk-toggleable__content {max-height: 200px;max-width: 100%;overflow: auto;}#sk-container-id-1 input.sk-toggleable__control:checked~label.sk-toggleable__label-arrow:before {content: \"▾\";}#sk-container-id-1 div.sk-estimator input.sk-toggleable__control:checked~label.sk-toggleable__label {background-color: #d4ebff;}#sk-container-id-1 div.sk-label input.sk-toggleable__control:checked~label.sk-toggleable__label {background-color: #d4ebff;}#sk-container-id-1 input.sk-hidden--visually {border: 0;clip: rect(1px 1px 1px 1px);clip: rect(1px, 1px, 1px, 1px);height: 1px;margin: -1px;overflow: hidden;padding: 0;position: absolute;width: 1px;}#sk-container-id-1 div.sk-estimator {font-family: monospace;background-color: #f0f8ff;border: 1px dotted black;border-radius: 0.25em;box-sizing: border-box;margin-bottom: 0.5em;}#sk-container-id-1 div.sk-estimator:hover {background-color: #d4ebff;}#sk-container-id-1 div.sk-parallel-item::after {content: \"\";width: 100%;border-bottom: 1px solid gray;flex-grow: 1;}#sk-container-id-1 div.sk-label:hover label.sk-toggleable__label {background-color: #d4ebff;}#sk-container-id-1 div.sk-serial::before {content: \"\";position: absolute;border-left: 1px solid gray;box-sizing: border-box;top: 0;bottom: 0;left: 50%;z-index: 0;}#sk-container-id-1 div.sk-serial {display: flex;flex-direction: column;align-items: center;background-color: white;padding-right: 0.2em;padding-left: 0.2em;position: relative;}#sk-container-id-1 div.sk-item {position: relative;z-index: 1;}#sk-container-id-1 div.sk-parallel {display: flex;align-items: stretch;justify-content: center;background-color: white;position: relative;}#sk-container-id-1 div.sk-item::before, #sk-container-id-1 div.sk-parallel-item::before {content: \"\";position: absolute;border-left: 1px solid gray;box-sizing: border-box;top: 0;bottom: 0;left: 50%;z-index: -1;}#sk-container-id-1 div.sk-parallel-item {display: flex;flex-direction: column;z-index: 1;position: relative;background-color: white;}#sk-container-id-1 div.sk-parallel-item:first-child::after {align-self: flex-end;width: 50%;}#sk-container-id-1 div.sk-parallel-item:last-child::after {align-self: flex-start;width: 50%;}#sk-container-id-1 div.sk-parallel-item:only-child::after {width: 0;}#sk-container-id-1 div.sk-dashed-wrapped {border: 1px dashed gray;margin: 0 0.4em 0.5em 0.4em;box-sizing: border-box;padding-bottom: 0.4em;background-color: white;}#sk-container-id-1 div.sk-label label {font-family: monospace;font-weight: bold;display: inline-block;line-height: 1.2em;}#sk-container-id-1 div.sk-label-container {text-align: center;}#sk-container-id-1 div.sk-container {/* jupyter's `normalize.less` sets `[hidden] { display: none; }` but bootstrap.min.css set `[hidden] { display: none !important; }` so we also need the `!important` here to be able to override the default hidden behavior on the sphinx rendered scikit-learn.org. See: https://github.com/scikit-learn/scikit-learn/issues/21755 */display: inline-block !important;position: relative;}#sk-container-id-1 div.sk-text-repr-fallback {display: none;}</style><div id=\"sk-container-id-1\" class=\"sk-top-container\"><div class=\"sk-text-repr-fallback\"><pre>LogisticRegression(max_iter=1000, random_state=42)</pre><b>In a Jupyter environment, please rerun this cell to show the HTML representation or trust the notebook. <br />On GitHub, the HTML representation is unable to render, please try loading this page with nbviewer.org.</b></div><div class=\"sk-container\" hidden><div class=\"sk-item\"><div class=\"sk-estimator sk-toggleable\"><input class=\"sk-toggleable__control sk-hidden--visually\" id=\"sk-estimator-id-1\" type=\"checkbox\" checked><label for=\"sk-estimator-id-1\" class=\"sk-toggleable__label sk-toggleable__label-arrow\">LogisticRegression</label><div class=\"sk-toggleable__content\"><pre>LogisticRegression(max_iter=1000, random_state=42)</pre></div></div></div></div></div>"
      ]
     },
     "execution_count": 12,
     "metadata": {},
     "output_type": "execute_result"
    }
   ],
   "execution_count": 12
  },
  {
   "metadata": {
    "ExecuteTime": {
     "end_time": "2025-08-20T18:54:53.015236Z",
     "start_time": "2025-08-20T18:54:51.863624Z"
    }
   },
   "cell_type": "code",
   "source": [
    "\n",
    "rf_test_proba = rf_clf_trained.predict_proba(X_test_scaled)\n",
    "et_test_proba = et_clf_trained.predict_proba(X_test_scaled)\n",
    "svm_test_proba = svm_clf_calibrated_trained.predict_proba(X_test_scaled)\n",
    "\n",
    "X_test_stacked = np.hstack([rf_test_proba, et_test_proba, svm_test_proba])\n",
    "\n",
    "blender.score(X_test_stacked, y_test)"
   ],
   "id": "cdbe84afd6e0302",
   "outputs": [
    {
     "data": {
      "text/plain": [
       "0.9184"
      ]
     },
     "execution_count": 14,
     "metadata": {},
     "output_type": "execute_result"
    }
   ],
   "execution_count": 14
  },
  {
   "metadata": {
    "ExecuteTime": {
     "end_time": "2025-08-20T20:18:17.964784Z",
     "start_time": "2025-08-20T19:23:47.359870Z"
    }
   },
   "cell_type": "code",
   "source": [
    "# 运行 55 min\n",
    "from sklearn.ensemble import StackingClassifier\n",
    "from sklearn.linear_model import LogisticRegression\n",
    "\n",
    "stacking_clf = StackingClassifier(estimators=classifiers,final_estimator=LogisticRegression(max_iter=1000, random_state=42),cv=5, n_jobs=-1)\n",
    "X_train_full, y_train_full = np.vstack((X_train_scaled, X_val_scaled)), np.concatenate((y_train, y_val))\n",
    "\n",
    "stacking_clf.fit(X_train_full, y_train_full)"
   ],
   "id": "f88dcd4d7fcd2565",
   "outputs": [
    {
     "data": {
      "text/plain": [
       "StackingClassifier(cv=5,\n",
       "                   estimators=[('rf',\n",
       "                                RandomForestClassifier(max_leaf_nodes=32,\n",
       "                                                       n_estimators=200,\n",
       "                                                       n_jobs=-1,\n",
       "                                                       random_state=42)),\n",
       "                               ('et',\n",
       "                                ExtraTreesClassifier(max_leaf_nodes=32,\n",
       "                                                     n_estimators=200,\n",
       "                                                     n_jobs=-1,\n",
       "                                                     random_state=42)),\n",
       "                               ('svm',\n",
       "                                CalibratedClassifierCV(cv=3,\n",
       "                                                       estimator=LinearSVC(max_iter=2000,\n",
       "                                                                           random_state=42),\n",
       "                                                       method='isotonic'))],\n",
       "                   final_estimator=LogisticRegression(max_iter=1000,\n",
       "                                                      random_state=42),\n",
       "                   n_jobs=-1)"
      ],
      "text/html": [
       "<style>#sk-container-id-1 {color: black;}#sk-container-id-1 pre{padding: 0;}#sk-container-id-1 div.sk-toggleable {background-color: white;}#sk-container-id-1 label.sk-toggleable__label {cursor: pointer;display: block;width: 100%;margin-bottom: 0;padding: 0.3em;box-sizing: border-box;text-align: center;}#sk-container-id-1 label.sk-toggleable__label-arrow:before {content: \"▸\";float: left;margin-right: 0.25em;color: #696969;}#sk-container-id-1 label.sk-toggleable__label-arrow:hover:before {color: black;}#sk-container-id-1 div.sk-estimator:hover label.sk-toggleable__label-arrow:before {color: black;}#sk-container-id-1 div.sk-toggleable__content {max-height: 0;max-width: 0;overflow: hidden;text-align: left;background-color: #f0f8ff;}#sk-container-id-1 div.sk-toggleable__content pre {margin: 0.2em;color: black;border-radius: 0.25em;background-color: #f0f8ff;}#sk-container-id-1 input.sk-toggleable__control:checked~div.sk-toggleable__content {max-height: 200px;max-width: 100%;overflow: auto;}#sk-container-id-1 input.sk-toggleable__control:checked~label.sk-toggleable__label-arrow:before {content: \"▾\";}#sk-container-id-1 div.sk-estimator input.sk-toggleable__control:checked~label.sk-toggleable__label {background-color: #d4ebff;}#sk-container-id-1 div.sk-label input.sk-toggleable__control:checked~label.sk-toggleable__label {background-color: #d4ebff;}#sk-container-id-1 input.sk-hidden--visually {border: 0;clip: rect(1px 1px 1px 1px);clip: rect(1px, 1px, 1px, 1px);height: 1px;margin: -1px;overflow: hidden;padding: 0;position: absolute;width: 1px;}#sk-container-id-1 div.sk-estimator {font-family: monospace;background-color: #f0f8ff;border: 1px dotted black;border-radius: 0.25em;box-sizing: border-box;margin-bottom: 0.5em;}#sk-container-id-1 div.sk-estimator:hover {background-color: #d4ebff;}#sk-container-id-1 div.sk-parallel-item::after {content: \"\";width: 100%;border-bottom: 1px solid gray;flex-grow: 1;}#sk-container-id-1 div.sk-label:hover label.sk-toggleable__label {background-color: #d4ebff;}#sk-container-id-1 div.sk-serial::before {content: \"\";position: absolute;border-left: 1px solid gray;box-sizing: border-box;top: 0;bottom: 0;left: 50%;z-index: 0;}#sk-container-id-1 div.sk-serial {display: flex;flex-direction: column;align-items: center;background-color: white;padding-right: 0.2em;padding-left: 0.2em;position: relative;}#sk-container-id-1 div.sk-item {position: relative;z-index: 1;}#sk-container-id-1 div.sk-parallel {display: flex;align-items: stretch;justify-content: center;background-color: white;position: relative;}#sk-container-id-1 div.sk-item::before, #sk-container-id-1 div.sk-parallel-item::before {content: \"\";position: absolute;border-left: 1px solid gray;box-sizing: border-box;top: 0;bottom: 0;left: 50%;z-index: -1;}#sk-container-id-1 div.sk-parallel-item {display: flex;flex-direction: column;z-index: 1;position: relative;background-color: white;}#sk-container-id-1 div.sk-parallel-item:first-child::after {align-self: flex-end;width: 50%;}#sk-container-id-1 div.sk-parallel-item:last-child::after {align-self: flex-start;width: 50%;}#sk-container-id-1 div.sk-parallel-item:only-child::after {width: 0;}#sk-container-id-1 div.sk-dashed-wrapped {border: 1px dashed gray;margin: 0 0.4em 0.5em 0.4em;box-sizing: border-box;padding-bottom: 0.4em;background-color: white;}#sk-container-id-1 div.sk-label label {font-family: monospace;font-weight: bold;display: inline-block;line-height: 1.2em;}#sk-container-id-1 div.sk-label-container {text-align: center;}#sk-container-id-1 div.sk-container {/* jupyter's `normalize.less` sets `[hidden] { display: none; }` but bootstrap.min.css set `[hidden] { display: none !important; }` so we also need the `!important` here to be able to override the default hidden behavior on the sphinx rendered scikit-learn.org. See: https://github.com/scikit-learn/scikit-learn/issues/21755 */display: inline-block !important;position: relative;}#sk-container-id-1 div.sk-text-repr-fallback {display: none;}</style><div id=\"sk-container-id-1\" class=\"sk-top-container\"><div class=\"sk-text-repr-fallback\"><pre>StackingClassifier(cv=5,\n",
       "                   estimators=[(&#x27;rf&#x27;,\n",
       "                                RandomForestClassifier(max_leaf_nodes=32,\n",
       "                                                       n_estimators=200,\n",
       "                                                       n_jobs=-1,\n",
       "                                                       random_state=42)),\n",
       "                               (&#x27;et&#x27;,\n",
       "                                ExtraTreesClassifier(max_leaf_nodes=32,\n",
       "                                                     n_estimators=200,\n",
       "                                                     n_jobs=-1,\n",
       "                                                     random_state=42)),\n",
       "                               (&#x27;svm&#x27;,\n",
       "                                CalibratedClassifierCV(cv=3,\n",
       "                                                       estimator=LinearSVC(max_iter=2000,\n",
       "                                                                           random_state=42),\n",
       "                                                       method=&#x27;isotonic&#x27;))],\n",
       "                   final_estimator=LogisticRegression(max_iter=1000,\n",
       "                                                      random_state=42),\n",
       "                   n_jobs=-1)</pre><b>In a Jupyter environment, please rerun this cell to show the HTML representation or trust the notebook. <br />On GitHub, the HTML representation is unable to render, please try loading this page with nbviewer.org.</b></div><div class=\"sk-container\" hidden><div class=\"sk-item sk-dashed-wrapped\"><div class=\"sk-label-container\"><div class=\"sk-label sk-toggleable\"><input class=\"sk-toggleable__control sk-hidden--visually\" id=\"sk-estimator-id-1\" type=\"checkbox\" ><label for=\"sk-estimator-id-1\" class=\"sk-toggleable__label sk-toggleable__label-arrow\">StackingClassifier</label><div class=\"sk-toggleable__content\"><pre>StackingClassifier(cv=5,\n",
       "                   estimators=[(&#x27;rf&#x27;,\n",
       "                                RandomForestClassifier(max_leaf_nodes=32,\n",
       "                                                       n_estimators=200,\n",
       "                                                       n_jobs=-1,\n",
       "                                                       random_state=42)),\n",
       "                               (&#x27;et&#x27;,\n",
       "                                ExtraTreesClassifier(max_leaf_nodes=32,\n",
       "                                                     n_estimators=200,\n",
       "                                                     n_jobs=-1,\n",
       "                                                     random_state=42)),\n",
       "                               (&#x27;svm&#x27;,\n",
       "                                CalibratedClassifierCV(cv=3,\n",
       "                                                       estimator=LinearSVC(max_iter=2000,\n",
       "                                                                           random_state=42),\n",
       "                                                       method=&#x27;isotonic&#x27;))],\n",
       "                   final_estimator=LogisticRegression(max_iter=1000,\n",
       "                                                      random_state=42),\n",
       "                   n_jobs=-1)</pre></div></div></div><div class=\"sk-serial\"><div class=\"sk-item\"><div class=\"sk-parallel\"><div class=\"sk-parallel-item\"><div class=\"sk-item\"><div class=\"sk-label-container\"><div class=\"sk-label sk-toggleable\"><label>rf</label></div></div><div class=\"sk-serial\"><div class=\"sk-item\"><div class=\"sk-estimator sk-toggleable\"><input class=\"sk-toggleable__control sk-hidden--visually\" id=\"sk-estimator-id-2\" type=\"checkbox\" ><label for=\"sk-estimator-id-2\" class=\"sk-toggleable__label sk-toggleable__label-arrow\">RandomForestClassifier</label><div class=\"sk-toggleable__content\"><pre>RandomForestClassifier(max_leaf_nodes=32, n_estimators=200, n_jobs=-1,\n",
       "                       random_state=42)</pre></div></div></div></div></div></div><div class=\"sk-parallel-item\"><div class=\"sk-item\"><div class=\"sk-label-container\"><div class=\"sk-label sk-toggleable\"><label>et</label></div></div><div class=\"sk-serial\"><div class=\"sk-item\"><div class=\"sk-estimator sk-toggleable\"><input class=\"sk-toggleable__control sk-hidden--visually\" id=\"sk-estimator-id-3\" type=\"checkbox\" ><label for=\"sk-estimator-id-3\" class=\"sk-toggleable__label sk-toggleable__label-arrow\">ExtraTreesClassifier</label><div class=\"sk-toggleable__content\"><pre>ExtraTreesClassifier(max_leaf_nodes=32, n_estimators=200, n_jobs=-1,\n",
       "                     random_state=42)</pre></div></div></div></div></div></div><div class=\"sk-parallel-item\"><div class=\"sk-item\"><div class=\"sk-label-container\"><div class=\"sk-label sk-toggleable\"><label>svm</label></div></div><div class=\"sk-serial\"><div class=\"sk-item sk-dashed-wrapped\"><div class=\"sk-parallel\"><div class=\"sk-parallel-item\"><div class=\"sk-item\"><div class=\"sk-label-container\"><div class=\"sk-label sk-toggleable\"><input class=\"sk-toggleable__control sk-hidden--visually\" id=\"sk-estimator-id-4\" type=\"checkbox\" ><label for=\"sk-estimator-id-4\" class=\"sk-toggleable__label sk-toggleable__label-arrow\">estimator: LinearSVC</label><div class=\"sk-toggleable__content\"><pre>LinearSVC(max_iter=2000, random_state=42)</pre></div></div></div><div class=\"sk-serial\"><div class=\"sk-item\"><div class=\"sk-estimator sk-toggleable\"><input class=\"sk-toggleable__control sk-hidden--visually\" id=\"sk-estimator-id-5\" type=\"checkbox\" ><label for=\"sk-estimator-id-5\" class=\"sk-toggleable__label sk-toggleable__label-arrow\">LinearSVC</label><div class=\"sk-toggleable__content\"><pre>LinearSVC(max_iter=2000, random_state=42)</pre></div></div></div></div></div></div></div></div></div></div></div></div></div><div class=\"sk-item\"><div class=\"sk-parallel\"><div class=\"sk-parallel-item\"><div class=\"sk-item\"><div class=\"sk-label-container\"><div class=\"sk-label sk-toggleable\"><label>final_estimator</label></div></div><div class=\"sk-serial\"><div class=\"sk-item\"><div class=\"sk-estimator sk-toggleable\"><input class=\"sk-toggleable__control sk-hidden--visually\" id=\"sk-estimator-id-6\" type=\"checkbox\" ><label for=\"sk-estimator-id-6\" class=\"sk-toggleable__label sk-toggleable__label-arrow\">LogisticRegression</label><div class=\"sk-toggleable__content\"><pre>LogisticRegression(max_iter=1000, random_state=42)</pre></div></div></div></div></div></div></div></div></div></div></div></div>"
      ]
     },
     "execution_count": 5,
     "metadata": {},
     "output_type": "execute_result"
    }
   ],
   "execution_count": 5
  },
  {
   "metadata": {
    "ExecuteTime": {
     "end_time": "2025-08-20T20:19:48.866548Z",
     "start_time": "2025-08-20T20:19:47.566452Z"
    }
   },
   "cell_type": "code",
   "source": "stacking_clf.score(X_test_scaled, y_test)",
   "id": "422459b28e35b715",
   "outputs": [
    {
     "data": {
      "text/plain": [
       "0.92225"
      ]
     },
     "execution_count": 10,
     "metadata": {},
     "output_type": "execute_result"
    }
   ],
   "execution_count": 10
  }
 ],
 "metadata": {
  "kernelspec": {
   "display_name": "Python 3",
   "language": "python",
   "name": "python3"
  },
  "language_info": {
   "codemirror_mode": {
    "name": "ipython",
    "version": 2
   },
   "file_extension": ".py",
   "mimetype": "text/x-python",
   "name": "python",
   "nbconvert_exporter": "python",
   "pygments_lexer": "ipython2",
   "version": "2.7.6"
  }
 },
 "nbformat": 4,
 "nbformat_minor": 5
}
