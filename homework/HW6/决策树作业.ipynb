{
 "cells": [
  {
   "metadata": {},
   "cell_type": "markdown",
   "source": [
    "## 简答题\n",
    "1. 如果训练集有100万个实例，训练决策树（无约束）大致的深度是多少？\n",
    "2. 通常来说，子节点的基尼杂质是高于还是低于其父节点？是通常更高/更低？还是永远更高/更低？\n",
    "3. 如果决策树过拟合训练集，减少max_depth是否为一个好主意？\n",
    "4. 如果决策树对训练集欠拟合，尝试缩放输入特征是否为一个好主意？\n",
    "5. 如果在给定的训练集上训练决策树需要一个小时，那么如果将特征数量变为两倍，训练大约需要多少时间？\n",
    "6. 如果在包含100万个实例的训练集上训练决策树需要一个小时，那么在包含1000万个实例的训练集上训练决策树，大概需要多长时间？提示：考虑CART算法的计算复杂度。"
   ],
   "id": "c8b56739308b5b88"
  },
  {
   "metadata": {},
   "cell_type": "markdown",
   "source": "## 编程题",
   "id": "d57bc0d1695fa8ab"
  },
  {
   "metadata": {},
   "cell_type": "markdown",
   "source": [
    "1. 为 新月形 数据集训练并微调一棵决策树。\n",
    "\n",
    "a. 使用make_moons(n_samples=10000，noise=0.4)生成一个 新月形 数据集。\n",
    "\n",
    "b. 使用train_test_split()拆分训练集和测试集。\n",
    "\n",
    "c. 使用交叉验证的网格搜索（在GridSearchCV类的帮助下）为Decision-TreeClassifier找到适合的超参数值。提示：尝试max_leaf_nodes的多种值。\n",
    "\n",
    "d. 使用超参数对整个训练集进行训练，并测量模型在测试集上的性能。你应该得到约85%～87%的准确率。"
   ],
   "id": "df859f669d173482"
  },
  {
   "metadata": {
    "ExecuteTime": {
     "end_time": "2025-08-21T07:52:31.140798Z",
     "start_time": "2025-08-21T07:52:16.111979Z"
    }
   },
   "cell_type": "code",
   "source": [
    "from sklearn.tree import DecisionTreeClassifier\n",
    "from sklearn.model_selection import train_test_split, GridSearchCV\n",
    "from sklearn.datasets import make_moons\n",
    "import numpy as np\n",
    "\n",
    "X,y = make_moons(n_samples=10000,noise=0.4,random_state=42)\n",
    "X_train,X_test,y_train,y_test = train_test_split(X,y,test_size=0.2,random_state=42)\n",
    "\n",
    "# param_grid = {\n",
    "#     'max_depth': [3, 5, 7, 10, None],\n",
    "#     'max_leaf_nodes':   2**np.arange(1, 10),\n",
    "#     'min_samples_leaf': range(1, 50, 2),\n",
    "#     'min_samples_split': [2, 5, 10],\n",
    "#     'criterion': ['gini', 'entropy'],\n",
    "#     'max_features': [None, 'sqrt', 'log2']\n",
    "# }\n",
    "param_grid = {\n",
    "    'criterion': ['gini', 'entropy'],\n",
    "    'max_leaf_nodes':   2**np.arange(1, 10),\n",
    "    'min_samples_leaf': range(1, 50, 2)\n",
    "}\n",
    "gscv = GridSearchCV(DecisionTreeClassifier(random_state=42), param_grid, cv=5, scoring='accuracy', n_jobs=-1, verbose=1)\n",
    "gscv.fit(X_train, y_train)\n",
    "print(\"最佳参数:\", gscv.best_params_)\n",
    "print(\"最佳交叉验证准确率:\", gscv.best_score_)\n",
    "test_accuracy = gscv.score(X_test, y_test)\n",
    "print(\"测试集准确率:\", test_accuracy)"
   ],
   "id": "361817e58f9cbbba",
   "outputs": [
    {
     "name": "stdout",
     "output_type": "stream",
     "text": [
      "Fitting 5 folds for each of 450 candidates, totalling 2250 fits\n",
      "最佳参数: {'criterion': 'entropy', 'max_leaf_nodes': 128, 'min_samples_leaf': 45}\n",
      "最佳交叉验证准确率: 0.8612499999999998\n",
      "测试集准确率: 0.867\n"
     ]
    }
   ],
   "execution_count": 1
  },
  {
   "metadata": {},
   "cell_type": "markdown",
   "source": [
    "2. 按照以下步骤种植森林。\n",
    "\n",
    "a.继续之前的练习，生产1000个训练集子集，每个子集包含随机挑选的100个实例。提示：使用Scikit-Learn的ShuffleSplit类来实现。\n",
    "\n",
    "b.使用前面得到的最佳超参数值，在每个子集上训练一棵决策树。在测试集上评估这1000棵决策树。因为训练集更小，所以这些决策树的表现可能比第一棵决策树要差一些，只能达到约80%的精度。\n",
    "\n",
    "c.见证奇迹的时刻到了。用每个测试集实例，生成1000棵决策树的预测，然后仅保留次数最频繁的预测［可以使用SciPy的mode()函数］。这样你在测试集上可获得大多数投票的预测结果。\n",
    "\n",
    "d.评估测试集上的这些预测，你得到的准确率应该比第一个模型更高（高出0.5%～1.5%）。恭喜，你已经训练出了一个随机森林分类器！"
   ],
   "id": "ed6c04b5518d9498"
  },
  {
   "metadata": {
    "ExecuteTime": {
     "end_time": "2025-08-21T07:57:15.603183Z",
     "start_time": "2025-08-21T07:57:13.952596Z"
    }
   },
   "cell_type": "code",
   "source": [
    "from sklearn.metrics import accuracy_score\n",
    "from sklearn.model_selection import ShuffleSplit\n",
    "\n",
    "shuffler = ShuffleSplit(n_splits=100,train_size=0.8,test_size=None,random_state=42)\n",
    "forests = []\n",
    "scores = []\n",
    "predictions = []\n",
    "best_parmas = gscv.best_params_\n",
    "\n",
    "for train_index, test_index in shuffler.split(X_train):\n",
    "    tree_clf = DecisionTreeClassifier(**best_parmas,max_features='sqrt',\n",
    "                                      random_state=np.random.randint(10000))\n",
    "\n",
    "    tree_clf.fit(X_train[train_index], y_train[train_index])\n",
    "    forests.append(tree_clf)\n",
    "\n",
    "    tree_pred = tree_clf.predict(X_test)\n",
    "    predictions.append(tree_pred)\n",
    "    scores.append(accuracy_score(y_test, tree_pred))\n",
    "\n",
    "np.mean(scores)"
   ],
   "id": "c73f731a299a3a99",
   "outputs": [
    {
     "data": {
      "text/plain": [
       "0.8629350000000001"
      ]
     },
     "execution_count": 10,
     "metadata": {},
     "output_type": "execute_result"
    }
   ],
   "execution_count": 10
  },
  {
   "metadata": {
    "ExecuteTime": {
     "end_time": "2025-08-21T07:57:17.166496Z",
     "start_time": "2025-08-21T07:57:17.040087Z"
    }
   },
   "cell_type": "code",
   "source": [
    "from scipy.stats import mode\n",
    "forest_pred, _ = mode(predictions, axis=0)\n",
    "accuracy_score(y_test, forest_pred)"
   ],
   "id": "8ac105cd4a2689c4",
   "outputs": [
    {
     "data": {
      "text/plain": [
       "0.873"
      ]
     },
     "execution_count": 11,
     "metadata": {},
     "output_type": "execute_result"
    }
   ],
   "execution_count": 11
  },
  {
   "metadata": {
    "ExecuteTime": {
     "end_time": "2025-08-20T10:08:05.946676Z",
     "start_time": "2025-08-20T10:08:04.016085Z"
    }
   },
   "cell_type": "code",
   "source": "",
   "id": "e2e408b599ed10c6",
   "outputs": [
    {
     "name": "stdout",
     "output_type": "stream",
     "text": [
      "训练 1000 棵有差异的决策树...\n",
      "单棵树平均准确率: 0.772\n",
      "集成模型准确率: 0.788\n"
     ]
    }
   ],
   "execution_count": 12
  }
 ],
 "metadata": {
  "kernelspec": {
   "display_name": "Python 3",
   "language": "python",
   "name": "python3"
  },
  "language_info": {
   "codemirror_mode": {
    "name": "ipython",
    "version": 2
   },
   "file_extension": ".py",
   "mimetype": "text/x-python",
   "name": "python",
   "nbconvert_exporter": "python",
   "pygments_lexer": "ipython2",
   "version": "2.7.6"
  }
 },
 "nbformat": 4,
 "nbformat_minor": 5
}
