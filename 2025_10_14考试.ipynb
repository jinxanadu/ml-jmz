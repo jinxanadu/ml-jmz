{
 "cells": [
  {
   "cell_type": "code",
   "id": "initial_id",
   "metadata": {
    "collapsed": true,
    "ExecuteTime": {
     "end_time": "2025-10-14T07:50:35.966578Z",
     "start_time": "2025-10-14T07:50:35.945602Z"
    }
   },
   "source": "# 1 A 2 C 3 C 4 A 5 C 6 D 7 A 8 B",
   "outputs": [],
   "execution_count": 1
  },
  {
   "metadata": {
    "ExecuteTime": {
     "end_time": "2025-10-14T07:50:36.013014Z",
     "start_time": "2025-10-14T07:50:35.989485Z"
    }
   },
   "cell_type": "code",
   "source": [
    "# 1. 以下程序的功能是对随机产生的 1～100 之间的一个整数 n，利用二分法查找这个数并输出查找的次数。\n",
    "\n",
    "import random\n",
    "import math\n",
    "\n",
    "random.seed(5)\n",
    "n = random.randint(1, 100)  # 函数 random.randint(a,b) 返回从 a 到 b 之间随机选出的一个整数\n",
    "a, b, cnt = 1, 100, 0\n",
    "while a < b:\n",
    "    cnt += 1\n",
    "    m = math.ceil((a + b) / 2)  # 函数 math.ceil(x) 的返回值为数值 x 的向上取整\n",
    "    if n < m:\n",
    "        b = m - 1\n",
    "    elif n > m:\n",
    "        a = m + 1\n",
    "    else:\n",
    "        break\n",
    "print(cnt)\n"
   ],
   "id": "8e71e876d0a8f2d6",
   "outputs": [
    {
     "name": "stdout",
     "output_type": "stream",
     "text": [
      "5\n"
     ]
    }
   ],
   "execution_count": 2
  },
  {
   "metadata": {
    "ExecuteTime": {
     "end_time": "2025-10-14T07:50:42.299910Z",
     "start_time": "2025-10-14T07:50:36.046438Z"
    }
   },
   "cell_type": "code",
   "source": [
    "# 2. 以下程序读入正整数 n，计算\n",
    "# S = 1! − 2! + 3! − 4! + 5! − …… ± n!\n",
    "\n",
    "n = int(input())\n",
    "S = 0\n",
    "sign = 1\n",
    "k = 1\n",
    "for i in range(1,n+1):\n",
    "    k *= i\n",
    "    S += sign * k\n",
    "    sign = -sign\n",
    "print(S)\n"
   ],
   "id": "a3bff67d0cb3d8cf",
   "outputs": [
    {
     "name": "stdout",
     "output_type": "stream",
     "text": [
      "101\n"
     ]
    }
   ],
   "execution_count": 3
  },
  {
   "metadata": {
    "ExecuteTime": {
     "end_time": "2025-10-14T07:50:42.410615Z",
     "start_time": "2025-10-14T07:50:42.389637Z"
    }
   },
   "cell_type": "code",
   "source": [
    "# 3. 下面程序中的 Change 函数的功能是将十进制数转化 N 进制数（2 <= N <= 16）。\n",
    "#  输入目标进制和待转换的数，函数返回转换后的目标进制数。\n",
    "\n",
    "def Change(radix, num):\n",
    "    g = []\n",
    "    while num != 0:\n",
    "        r = num % radix\n",
    "        num = num // radix\n",
    "        g.append(r)\n",
    "    ans = ''\n",
    "    t = ('A', 'B', 'C', 'D', 'E', 'F')\n",
    "    for x in range(len(g)):\n",
    "        if g[x] >= 10:\n",
    "            ans += t[g[x]-10]\n",
    "        else:\n",
    "            ans += str(g[x])\n",
    "    return ans\n",
    "\n",
    "print(Change(16, 12455))"
   ],
   "id": "967d39c72e3c483e",
   "outputs": [
    {
     "name": "stdout",
     "output_type": "stream",
     "text": [
      "7A03\n"
     ]
    }
   ],
   "execution_count": 4
  },
  {
   "metadata": {
    "ExecuteTime": {
     "end_time": "2025-10-14T07:50:42.488373Z",
     "start_time": "2025-10-14T07:50:42.471419Z"
    }
   },
   "cell_type": "code",
   "source": [
    "# 4. 给定一个整数的数字列表 L，判断 L 中是否存在相同数字，若存在返回 True，否则返回 False。\n",
    "\n",
    "def identical(L):\n",
    "    flag = 0\n",
    "    L.sort()\n",
    "    for i in range(len(L)-1):\n",
    "        if L[i] == L[i+1]:\n",
    "            flag = 1\n",
    "            break\n",
    "    if flag:\n",
    "        return True\n",
    "    else:\n",
    "        return False\n"
   ],
   "id": "6bea3a6e8194eff9",
   "outputs": [],
   "execution_count": 5
  },
  {
   "metadata": {
    "ExecuteTime": {
     "end_time": "2025-10-14T07:50:42.519290Z",
     "start_time": "2025-10-14T07:50:42.507323Z"
    }
   },
   "cell_type": "code",
   "source": [
    "# 5. 程序填空。一个列表 a 中记录了连续多天的营业额，求其中最长的**连续增长（不含相等）**的子序列的长度。\n",
    "#  例如 [5, 1, 2, 3, 5, 9, 6, 7, 4, 6, 8] 中最长的连续增长（不含相等）的子序列长度是 5（即 [1, 2, 3, 5, 9] 的长度）。\n",
    "a =    [5, 1, 2, 3, 5, 9, 6, 7, 4, 6, 8]\n",
    "maxlen = 1\n",
    "n = 1\n",
    "for i in range(1, len(a)):\n",
    "    if a[i-1] < a[i]:\n",
    "        n += 1\n",
    "        if maxlen < n:\n",
    "            maxlen = n\n",
    "    else:\n",
    "        n = 1\n",
    "print(maxlen)\n"
   ],
   "id": "3499d06c83363eb4",
   "outputs": [
    {
     "name": "stdout",
     "output_type": "stream",
     "text": [
      "5\n"
     ]
    }
   ],
   "execution_count": 6
  },
  {
   "metadata": {
    "ExecuteTime": {
     "end_time": "2025-10-14T07:50:43.691928Z",
     "start_time": "2025-10-14T07:50:42.619023Z"
    }
   },
   "cell_type": "code",
   "source": [
    "import pandas as pd\n",
    "driver = pd.read_csv('./datasets/10_14/driver.csv')\n",
    "average_driver_rating = driver['rating'].mean()\n",
    "average_driver_rating"
   ],
   "id": "ef7e691dc033c891",
   "outputs": [
    {
     "data": {
      "text/plain": [
       "4.5287500000000005"
      ]
     },
     "execution_count": 7,
     "metadata": {},
     "output_type": "execute_result"
    }
   ],
   "execution_count": 7
  },
  {
   "metadata": {
    "ExecuteTime": {
     "end_time": "2025-10-14T07:50:43.738029Z",
     "start_time": "2025-10-14T07:50:43.723557Z"
    }
   },
   "cell_type": "code",
   "source": [
    "percentage_drivers_with_second_language = driver['second_language'].notna().mean()\n",
    "percentage_drivers_with_second_language"
   ],
   "id": "4bef804ac42688bb",
   "outputs": [
    {
     "data": {
      "text/plain": [
       "0.825"
      ]
     },
     "execution_count": 8,
     "metadata": {},
     "output_type": "execute_result"
    }
   ],
   "execution_count": 8
  },
  {
   "metadata": {
    "ExecuteTime": {
     "end_time": "2025-10-14T07:50:43.814446Z",
     "start_time": "2025-10-14T07:50:43.791503Z"
    }
   },
   "cell_type": "code",
   "source": [
    "rides_list = []\n",
    "for i in range(1, 5):\n",
    "    file_path = f'./datasets/10_14/rides_{i}.csv'\n",
    "    df = pd.read_csv(file_path)\n",
    "    rides_list.append(df)\n",
    "\n",
    "rides = pd.concat(rides_list, ignore_index=True)\n",
    "ride_success_rate = (rides['status'] == '成功').mean()\n",
    "ride_success_rate"
   ],
   "id": "ab3a4b2928091baf",
   "outputs": [
    {
     "data": {
      "text/plain": [
       "0.6569767441860465"
      ]
     },
     "execution_count": 9,
     "metadata": {},
     "output_type": "execute_result"
    }
   ],
   "execution_count": 9
  },
  {
   "metadata": {
    "ExecuteTime": {
     "end_time": "2025-10-14T07:50:43.878269Z",
     "start_time": "2025-10-14T07:50:43.860320Z"
    }
   },
   "cell_type": "code",
   "source": [
    "import pandas as pd\n",
    "\n",
    "results = {\n",
    "    \"average_driver_rating\": round(average_driver_rating, 2),\n",
    "    \"percentage_drivers_with_second_language\": round(percentage_drivers_with_second_language * 100, 2),\n",
    "    \"ride_success_rate\": round(percentage_drivers_with_second_language * 100, 2),\n",
    "}\n",
    "\n",
    "analysis_df = pd.DataFrame({\n",
    "    \"insight_type\": list(results.keys()),\n",
    "    \"value\": list(results.values())\n",
    "})\n",
    "\n",
    "analysis_df.to_csv(\"./datasets/10_14/analysis_results.csv\", index=False)"
   ],
   "id": "3a5d4bc80607eefc",
   "outputs": [],
   "execution_count": 10
  },
  {
   "metadata": {
    "ExecuteTime": {
     "end_time": "2025-10-14T07:50:43.909733Z",
     "start_time": "2025-10-14T07:50:43.890748Z"
    }
   },
   "cell_type": "code",
   "source": [
    "# # 1.简述 Batch Normalization 的基本原理与作用。\n",
    "# 批量归一化，就是把一个批量的输入标准化\n",
    "# 解决梯度爆炸/消失，加快收敛速度，正则化\n",
    "# # 2.什么是 Dropout？它在深度神经网络训练中的作用是什么？\n",
    "# 以一定比例抛弃一些神经元\n",
    "# 正则化，减少过拟合\n",
    "# # 3.解释梯度裁剪的概念及其在训练过程中的作用。\n",
    "# 在反向传播过程中裁剪梯度，使它们永远不会超过某个阈值\n",
    "# 解决梯度爆炸\n",
    "# # 4.什么是早停？为什么它能防止过拟合？\n",
    "# 当验证损失在若干轮后不再下降时，提前终止训练\n",
    "# 反正学习训练数据中的噪声，使验证损失最小\n",
    "# # 5.数据增强（Data Augmentation）在训练过程中的意义是什么？请举例说明。\n",
    "# 增加训练数据的多样性，提升模型泛化能力\n",
    "# 图片的旋转，剪裁\n",
    "# # 6.什么是梯度消失？ 为什么会出现？ 有哪些解决办法？\n",
    "# 梯度逐层减少，接近0，使深层网络的参数无法更新\n",
    "# mlp relu，he初始化等\n",
    "# cnn 残差网络\n",
    "# rnn lstm\n",
    "# # 7.什么是学习率调度？有什么好处？\n",
    "# 动态调整学习率\n",
    "# 初期用较大学习率快速收敛；\n",
    "# 后期用较小学习率精细调整，避免震荡；"
   ],
   "id": "9afc516806104ac7",
   "outputs": [],
   "execution_count": 11
  },
  {
   "metadata": {
    "ExecuteTime": {
     "end_time": "2025-10-14T07:50:56.693401Z",
     "start_time": "2025-10-14T07:50:43.925655Z"
    }
   },
   "cell_type": "code",
   "source": [
    "import numpy as np\n",
    "import tensorflow as tf\n",
    "\n",
    "# 假设我们用 60 天的价格预测第 61 天价格\n",
    "time_steps = 60\n",
    "features = 1\n",
    "samples = 200\n",
    "\n",
    "# 构造输入数据 (samples, time_steps, features)\n",
    "np.random.seed(42)\n",
    "x_train = np.random.rand(samples, time_steps, features)  # 200个 60天股票价格\n",
    "y_train = np.random.rand(samples, 1)                     # 200个 对应的第61天股票价格\n",
    "x_test  = np.random.rand(10, time_steps, features)       # 测试\n",
    "\n",
    "stock_model = tf.keras.models.Sequential([\n",
    "    tf.keras.layers.LSTM(4,input_shape=(time_steps, features),return_sequences=True),\n",
    "    tf.keras.layers.Dropout(0.2),\n",
    "    tf.keras.layers.LSTM(4),\n",
    "    tf.keras.layers.Dropout(0.2),\n",
    "    tf.keras.layers.Dense(1)\n",
    "])\n",
    "stock_model.compile(loss=\"mean_squared_error\", optimizer=\"adam\")\n",
    "stock_model.fit(x_train, y_train,epochs=5, batch_size=16, verbose=0)"
   ],
   "id": "5ce572e9820534c4",
   "outputs": [
    {
     "data": {
      "text/plain": [
       "<keras.src.callbacks.History at 0x1fea5f2e590>"
      ]
     },
     "execution_count": 12,
     "metadata": {},
     "output_type": "execute_result"
    }
   ],
   "execution_count": 12
  },
  {
   "metadata": {
    "ExecuteTime": {
     "end_time": "2025-10-14T07:50:56.803423Z",
     "start_time": "2025-10-14T07:50:56.760717Z"
    }
   },
   "cell_type": "code",
   "source": "stock_model.summary()",
   "id": "83d25ae7c725ac54",
   "outputs": [
    {
     "name": "stdout",
     "output_type": "stream",
     "text": [
      "Model: \"sequential\"\n",
      "_________________________________________________________________\n",
      " Layer (type)                Output Shape              Param #   \n",
      "=================================================================\n",
      " lstm (LSTM)                 (None, 60, 4)             96        \n",
      "                                                                 \n",
      " dropout (Dropout)           (None, 60, 4)             0         \n",
      "                                                                 \n",
      " lstm_1 (LSTM)               (None, 4)                 144       \n",
      "                                                                 \n",
      " dropout_1 (Dropout)         (None, 4)                 0         \n",
      "                                                                 \n",
      " dense (Dense)               (None, 1)                 5         \n",
      "                                                                 \n",
      "=================================================================\n",
      "Total params: 245 (980.00 Byte)\n",
      "Trainable params: 245 (980.00 Byte)\n",
      "Non-trainable params: 0 (0.00 Byte)\n",
      "_________________________________________________________________\n"
     ]
    }
   ],
   "execution_count": 13
  },
  {
   "metadata": {
    "ExecuteTime": {
     "end_time": "2025-10-14T07:51:02.294900Z",
     "start_time": "2025-10-14T07:51:01.012317Z"
    }
   },
   "cell_type": "code",
   "source": [
    "stock_model.predict(x_test)\n",
    "predictions = stock_model.predict(x_test)\n",
    "predictions[:,-1]"
   ],
   "id": "3a1e64040e49e2c",
   "outputs": [
    {
     "name": "stdout",
     "output_type": "stream",
     "text": [
      "1/1 [==============================] - 1s 954ms/step\n",
      "1/1 [==============================] - 0s 36ms/step\n"
     ]
    },
    {
     "data": {
      "text/plain": [
       "array([0.44719175, 0.46331123, 0.4497684 , 0.4473954 , 0.44127133,\n",
       "       0.44412696, 0.45337898, 0.43816057, 0.45879206, 0.4445338 ],\n",
       "      dtype=float32)"
      ]
     },
     "execution_count": 14,
     "metadata": {},
     "output_type": "execute_result"
    }
   ],
   "execution_count": 14
  }
 ],
 "metadata": {
  "kernelspec": {
   "display_name": "Python 3",
   "language": "python",
   "name": "python3"
  },
  "language_info": {
   "codemirror_mode": {
    "name": "ipython",
    "version": 2
   },
   "file_extension": ".py",
   "mimetype": "text/x-python",
   "name": "python",
   "nbconvert_exporter": "python",
   "pygments_lexer": "ipython2",
   "version": "2.7.6"
  }
 },
 "nbformat": 4,
 "nbformat_minor": 5
}
